{
  "nbformat": 4,
  "nbformat_minor": 0,
  "metadata": {
    "colab": {
      "name": "Datathon1.ipynb",
      "provenance": [],
      "collapsed_sections": [],
      "authorship_tag": "ABX9TyObQjjtuHBGYr7vya/WAIkk",
      "include_colab_link": true
    },
    "kernelspec": {
      "name": "python3",
      "display_name": "Python 3"
    },
    "language_info": {
      "name": "python"
    }
  },
  "cells": [
    {
      "cell_type": "markdown",
      "metadata": {
        "id": "view-in-github",
        "colab_type": "text"
      },
      "source": [
        "<a href=\"https://colab.research.google.com/github/radhikasethi2011/KaggleCompetitions/blob/main/Domain%20Network%20Security/Datathon1.ipynb\" target=\"_parent\"><img src=\"https://colab.research.google.com/assets/colab-badge.svg\" alt=\"Open In Colab\"/></a>"
      ]
    },
    {
      "cell_type": "code",
      "metadata": {
        "id": "OsvHnL5D_8sD"
      },
      "source": [
        "%pip install kaggle"
      ],
      "execution_count": null,
      "outputs": []
    },
    {
      "cell_type": "code",
      "metadata": {
        "id": "Nz9Wj705PPwC"
      },
      "source": [
        "import pandas as pd \n",
        "import numpy as np \n",
        "import matplotlib.pyplot as plt\n",
        "import sklearn \n",
        "import random\n",
        "from collections import Counter"
      ],
      "execution_count": null,
      "outputs": []
    },
    {
      "cell_type": "code",
      "metadata": {
        "id": "nzbwjpgPSKI0"
      },
      "source": [
        "df1 = pd.read_csv('./train.csv')"
      ],
      "execution_count": null,
      "outputs": []
    },
    {
      "cell_type": "code",
      "metadata": {
        "id": "exkeDnAsSgxm"
      },
      "source": [
        "df1.head(10)"
      ],
      "execution_count": null,
      "outputs": []
    },
    {
      "cell_type": "code",
      "metadata": {
        "id": "GyWLiJFNSmQs"
      },
      "source": [
        "df1.Action.value_counts()"
      ],
      "execution_count": null,
      "outputs": []
    },
    {
      "cell_type": "code",
      "metadata": {
        "id": "MVBpzeWbWUxt"
      },
      "source": [
        "df1=df1.rename(columns={'Source Port': 'SourcePort', 'Destination Port': 'DestinationPort', 'NAT Source Port': 'NATSourcePort', 'NAT Destination Port': 'NATDestinationPort', 'Bytes Sent': 'BytesSent', 'Bytes Received': 'BytesReceived','Elapsed Time (sec)': 'ElapsedTime' })"
      ],
      "execution_count": null,
      "outputs": []
    },
    {
      "cell_type": "markdown",
      "metadata": {
        "id": "WiIWVyC-DA6F"
      },
      "source": [
        "checking those columns which have null values < 30%"
      ]
    },
    {
      "cell_type": "code",
      "metadata": {
        "id": "YkIYdwzZT60m"
      },
      "source": [
        "df1_before_filling = df1\n",
        "df1 = df1[df1.columns[df1.isnull().mean() < 0.30]]"
      ],
      "execution_count": null,
      "outputs": []
    },
    {
      "cell_type": "code",
      "metadata": {
        "id": "c5KInFGqU4Oa"
      },
      "source": [
        "missing_cols = df1.columns[df1.isnull().mean() > 0]\n",
        "print(missing_cols)"
      ],
      "execution_count": null,
      "outputs": []
    },
    {
      "cell_type": "markdown",
      "metadata": {
        "id": "72O_p-8cDpAD"
      },
      "source": [
        "filling columns with their mean values "
      ]
    },
    {
      "cell_type": "code",
      "metadata": {
        "id": "mnR7PYI2XKQF"
      },
      "source": [
        "df1_single= df1\n",
        "cols= df1_single.columns\n",
        "num_cols = df1_single.select_dtypes(include=np.number).columns\n",
        "df1_single.loc[:,num_cols]=df1_single.loc[:,num_cols].fillna(df1_single.loc[:,num_cols].mean())\n",
        "print(num_cols)\n",
        "print(df1_single.loc[:,num_cols].mean())"
      ],
      "execution_count": null,
      "outputs": []
    },
    {
      "cell_type": "code",
      "metadata": {
        "id": "M2pzSvmVX6Q5"
      },
      "source": [
        "df1_single.columns[df1_single.isnull().mean() > 0] "
      ],
      "execution_count": null,
      "outputs": []
    },
    {
      "cell_type": "code",
      "metadata": {
        "id": "iTdxzRu9jO6B"
      },
      "source": [
        "df1.isnull().values.any()"
      ],
      "execution_count": null,
      "outputs": []
    },
    {
      "cell_type": "code",
      "metadata": {
        "id": "WbNS9YYuYCnE"
      },
      "source": [
        "df1.head(10)"
      ],
      "execution_count": null,
      "outputs": []
    },
    {
      "cell_type": "markdown",
      "metadata": {
        "id": "CWKvvlj2DugX"
      },
      "source": [
        "dividing data into training and testing data "
      ]
    },
    {
      "cell_type": "code",
      "metadata": {
        "id": "FcACj81scfAf"
      },
      "source": [
        "y = df1.iloc[:,12].values\n",
        "X = df1.iloc[:,0:12].values\n",
        "\n",
        "from sklearn.model_selection import train_test_split"
      ],
      "execution_count": null,
      "outputs": []
    },
    {
      "cell_type": "code",
      "metadata": {
        "id": "Q-0Cbe9gd7vN"
      },
      "source": [
        "from sklearn.model_selection import train_test_split\n",
        "X_train, X_test, y_train, y_test = train_test_split(\n",
        "X, y, test_size=0.3, random_state = 1)"
      ],
      "execution_count": null,
      "outputs": []
    },
    {
      "cell_type": "code",
      "metadata": {
        "id": "czTJLLL8fcH4"
      },
      "source": [
        "type(X_train)"
      ],
      "execution_count": null,
      "outputs": []
    },
    {
      "cell_type": "code",
      "metadata": {
        "id": "PEcqAb1ud-jv"
      },
      "source": [
        "X_train.shape, y_train.shape, X_test.shape , y_test.shape"
      ],
      "execution_count": null,
      "outputs": []
    },
    {
      "cell_type": "code",
      "metadata": {
        "id": "PbVufEQkTIhl"
      },
      "source": [
        "df1.info()"
      ],
      "execution_count": null,
      "outputs": []
    },
    {
      "cell_type": "markdown",
      "metadata": {
        "id": "puhqBJPLhVyu"
      },
      "source": [
        "Algorithms"
      ]
    },
    {
      "cell_type": "markdown",
      "metadata": {
        "id": "ws6UuucoDzg3"
      },
      "source": [
        "1. Decision Tree Classifier "
      ]
    },
    {
      "cell_type": "code",
      "metadata": {
        "id": "hUCegenm6hC3"
      },
      "source": [
        "from sklearn.tree import DecisionTreeClassifier\n",
        "model = DecisionTreeClassifier()"
      ],
      "execution_count": null,
      "outputs": []
    },
    {
      "cell_type": "code",
      "metadata": {
        "id": "fsxBDCV0g-J1"
      },
      "source": [
        "#decision tree \n",
        "from sklearn.tree import DecisionTreeClassifier\n",
        "model = DecisionTreeClassifier(criterion='gini', splitter='best', max_depth=None, \n",
        "                               min_samples_split=10, min_samples_leaf=1, \n",
        "                               min_weight_fraction_leaf=0.0, max_features=None, \n",
        "                               random_state=None, max_leaf_nodes=None, \n",
        "                               min_impurity_decrease=0.0, min_impurity_split=None, \n",
        "                               class_weight=None, presort='deprecated', ccp_alpha=0.0)\n",
        "\n"
      ],
      "execution_count": null,
      "outputs": []
    },
    {
      "cell_type": "code",
      "metadata": {
        "id": "kJ8Akhua55nq"
      },
      "source": [
        "model = model.fit(X_train,y_train)\n",
        "y_pred = model.predict(X_test)"
      ],
      "execution_count": null,
      "outputs": []
    },
    {
      "cell_type": "code",
      "metadata": {
        "id": "bQewtWtphTkP"
      },
      "source": [
        "\"\"\"\n",
        "from sklearn.metrics import accuracy_score\n",
        "print('Training acc : ', accuracy_score(y_train, model.predict(X_train)))\n",
        "print('Validation acc : ', accuracy_score(y_test, model.predict(X_test)))\n",
        "\"\"\"\n",
        "from sklearn.metrics import accuracy_score\n",
        "print(\"Accuracy:\",accuracy_score(y_test, y_pred))\n"
      ],
      "execution_count": null,
      "outputs": []
    },
    {
      "cell_type": "markdown",
      "metadata": {
        "id": "7tgckOqG9NOl"
      },
      "source": [
        "2. Random forest classifier\n"
      ]
    },
    {
      "cell_type": "code",
      "metadata": {
        "id": "oc8bwQR69PKm"
      },
      "source": [
        "from sklearn.ensemble import RandomForestClassifier\n",
        "model1 = RandomForestClassifier(n_estimators=50, criterion='gini', \n",
        "                                 max_depth=None, min_samples_split=2,\n",
        "                                 min_samples_leaf=1, min_weight_fraction_leaf=0.0,\n",
        "                                 max_features=10, max_leaf_nodes=None,\n",
        "                                 min_impurity_decrease=0.0, min_impurity_split=None, \n",
        "                                 bootstrap=True, oob_score=False, n_jobs=None,\n",
        "                                 random_state=None, verbose=0, warm_start=False,\n",
        "                                 class_weight=None, ccp_alpha=0.0, max_samples=None)\n",
        "\n",
        "model1 = model1.fit(X_train, y_train)\n",
        "y_pred = model1.predict(X_test)"
      ],
      "execution_count": null,
      "outputs": []
    },
    {
      "cell_type": "code",
      "metadata": {
        "id": "L_p-h6b_9PDD"
      },
      "source": [
        "from sklearn.metrics import accuracy_score\n",
        "print(\"Accuracy:\",accuracy_score(y_test, y_pred))"
      ],
      "execution_count": null,
      "outputs": []
    },
    {
      "cell_type": "markdown",
      "metadata": {
        "id": "rDIIEHyi_pnI"
      },
      "source": [
        "3. Support vector machines classifier"
      ]
    },
    {
      "cell_type": "code",
      "metadata": {
        "id": "-nTm_Fmx9O2U"
      },
      "source": [
        "from sklearn import svm\n",
        "svc = svm.SVC(kernel='poly', probability = True)\n",
        "svc = svc.fit(X_train,y_train)\n",
        "y_pred = svc.predict(X_test)"
      ],
      "execution_count": null,
      "outputs": []
    },
    {
      "cell_type": "code",
      "metadata": {
        "id": "AZtvn3Gq9OzY"
      },
      "source": [
        "from sklearn.metrics import accuracy_score\n",
        "print(\"Accuracy:\",accuracy_score(y_test, y_pred))"
      ],
      "execution_count": null,
      "outputs": []
    },
    {
      "cell_type": "markdown",
      "metadata": {
        "id": "y1wqW3e_G0UX"
      },
      "source": [
        "4. knn"
      ]
    },
    {
      "cell_type": "code",
      "metadata": {
        "id": "aK20T320GCGT"
      },
      "source": [
        "from sklearn.neighbors import KNeighborsClassifier\n",
        "knn = KNeighborsClassifier(n_neighbors = 5)\n",
        "knn = knn.fit(X_train,y_train)\n",
        "y_pred = knn.predict(X_test)"
      ],
      "execution_count": null,
      "outputs": []
    },
    {
      "cell_type": "code",
      "metadata": {
        "id": "Ix30ROZT9OwL"
      },
      "source": [
        "from sklearn.metrics import accuracy_score\n",
        "print(\"Accuracy:\",accuracy_score(y_test, y_pred))"
      ],
      "execution_count": null,
      "outputs": []
    },
    {
      "cell_type": "markdown",
      "metadata": {
        "id": "K6Eqle2jwRqq"
      },
      "source": [
        "working with test file \n"
      ]
    },
    {
      "cell_type": "code",
      "metadata": {
        "id": "jLFzQvtlg-B1"
      },
      "source": [
        "test_set = pd.read_csv('./test.csv')"
      ],
      "execution_count": null,
      "outputs": []
    },
    {
      "cell_type": "code",
      "metadata": {
        "id": "tWs15d96xYdJ"
      },
      "source": [
        "test_set.head(10)"
      ],
      "execution_count": null,
      "outputs": []
    },
    {
      "cell_type": "markdown",
      "metadata": {
        "id": "eZbTk3h1D-xL"
      },
      "source": [
        "- cleaning data \n",
        "- dividing data into train & test data \n",
        "- predicting based on previously trained models "
      ]
    },
    {
      "cell_type": "code",
      "metadata": {
        "id": "6HGy5V7HxYdO"
      },
      "source": [
        "test_set=test_set.rename(columns={'Source Port': 'SourcePort', 'Destination Port': 'DestinationPort', 'NAT Source Port': 'NATSourcePort', 'NAT Destination Port': 'NATDestinationPort', 'Bytes Sent': 'BytesSent', 'Bytes Received': 'BytesReceived','Elapsed Time (sec)': 'ElapsedTime' })"
      ],
      "execution_count": null,
      "outputs": []
    },
    {
      "cell_type": "code",
      "metadata": {
        "id": "8VUzuhKIxYdP"
      },
      "source": [
        "test_set_before_filling = test_set\n",
        "test_set = test_set[test_set.columns[test_set.isnull().mean() < 0.30]]"
      ],
      "execution_count": null,
      "outputs": []
    },
    {
      "cell_type": "code",
      "metadata": {
        "id": "4kuWSxvJxYdQ"
      },
      "source": [
        "missing_cols = test_set.columns[test_set.isnull().mean() > 0]\n",
        "print(missing_cols)"
      ],
      "execution_count": null,
      "outputs": []
    },
    {
      "cell_type": "code",
      "metadata": {
        "id": "gPvjaXZixYdQ"
      },
      "source": [
        "test_set_single= test_set\n",
        "cols= test_set_single.columns\n",
        "num_cols = test_set_single.select_dtypes(include=np.number).columns\n",
        "test_set_single.loc[:,num_cols]=test_set_single.loc[:,num_cols].fillna(test_set_single.loc[:,num_cols].mean())\n",
        "print(num_cols)\n",
        "print(test_set_single.loc[:,num_cols].mean())"
      ],
      "execution_count": null,
      "outputs": []
    },
    {
      "cell_type": "code",
      "metadata": {
        "id": "81feiwsixYdR"
      },
      "source": [
        "test_set_single.columns[test_set_single.isnull().mean() > 0] "
      ],
      "execution_count": null,
      "outputs": []
    },
    {
      "cell_type": "code",
      "metadata": {
        "id": "IWh6COnwxYdS"
      },
      "source": [
        "test_set.isnull().values.any()"
      ],
      "execution_count": null,
      "outputs": []
    },
    {
      "cell_type": "code",
      "metadata": {
        "id": "eZxtDaWZxYdT"
      },
      "source": [
        "test_set.head(10)"
      ],
      "execution_count": null,
      "outputs": []
    },
    {
      "cell_type": "code",
      "metadata": {
        "id": "-2kjAzeqwhx4"
      },
      "source": [
        "predictionss = model1.predict(test_set)"
      ],
      "execution_count": null,
      "outputs": []
    },
    {
      "cell_type": "code",
      "metadata": {
        "id": "xWHy0lBKx6Us"
      },
      "source": [
        "submit_df = pd.DataFrame()\n",
        "submit_df['ID'] = test_set['ID']\n",
        "submit_df['Action'] = predictionss\n",
        "submit_df.to_csv('domainnetworksecurity.csv', index= False) # This will write you submit_df with two columns in output folder."
      ],
      "execution_count": null,
      "outputs": []
    }
  ]
}